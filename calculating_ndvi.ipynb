{
  "nbformat": 4,
  "nbformat_minor": 0,
  "metadata": {
    "colab": {
      "provenance": [],
      "authorship_tag": "ABX9TyNfWMvtT6GYhXSgh14nUNXO",
      "include_colab_link": true
    },
    "kernelspec": {
      "name": "python3",
      "display_name": "Python 3"
    },
    "language_info": {
      "name": "python"
    }
  },
  "cells": [
    {
      "cell_type": "markdown",
      "metadata": {
        "id": "view-in-github",
        "colab_type": "text"
      },
      "source": [
        "<a href=\"https://colab.research.google.com/github/pablex72/time-series-practice/blob/main/calculating_ndvi.ipynb\" target=\"_parent\"><img src=\"https://colab.research.google.com/assets/colab-badge.svg\" alt=\"Open In Colab\"/></a>"
      ]
    },
    {
      "cell_type": "code",
      "execution_count": null,
      "metadata": {
        "id": "xjVGk_NHXueA"
      },
      "outputs": [],
      "source": [
        "//Step 4: Calculate the NDVI manually: NDVI = (B8 - B4) / (B8 + B4)\n",
        "//this can be achieved using either simple band operations, .expression or .normalizedDifference\n",
        "//Variant 1: Simple band operations\n",
        "var nir = s2a_median.select('B8');\n",
        "var red = s2a_median.select('B4');\n",
        "var ndvi = nir.subtract(red).divide(nir.add(red)).rename('NDVI');\n",
        "print(ndvi, 'NDVI Lebanon July 2020 V1')\n",
        "\n",
        "// Display the result.\n",
        "var ndviParams = {min: -1, max: 1, palette: ['blue', 'white', 'green']};\n",
        "Map.addLayer(ndvi, ndviParams, 'NDVI Lebanon July 2020 V1');\n",
        "\n",
        "//Variant 2: .expression\n",
        "var ndvi_2 = s2a_median.expression(\n",
        "                      '(NIR-RED)/(NIR+RED)', {\n",
        "                        'NIR' : s2a_median.select('B8'),\n",
        "                        'RED' : s2a_median.select('B4')\n",
        "                      })\n",
        "                      .rename('NDVI');\n",
        "\n",
        "print(ndvi_2, 'NDVI Lebanon July 2020 V2')\n",
        "\n",
        "//Display the result\n",
        "Map.addLayer(ndvi_2, ndviParams , 'NDVI Lebanon July 2020 V2');\n",
        "\n",
        "//Variant 3: .normalizedDifference(NIR, RED)\n",
        "//find out how .normalizedDifference works by checking Docs -> ee.Image -> normalizedDifference\n",
        "var ndvi_3 = s2a_median.normalizedDifference(['B8', 'B4'])\n",
        "                      .rename('NDVI');\n",
        "print(ndvi_3, 'NDVI Lebanon July 2020 V3');\n",
        "\n",
        "//You can also create more complex colour palettes via hex strings.\n",
        "//this color combination is taken from the Examples script Image -> Normalized Difference:\n",
        "var palette = ['FFFFFF', 'CE7E45', 'DF923D', 'F1B555', 'FCD163', '99B718',\n",
        "               '74A901', '66A000', '529400', '3E8601', '207401', '056201',\n",
        "               '004C00', '023B01', '012E01', '011D01', '011301'];\n",
        "//Please keep in mind that for this palette, you should set your minimum visible value to 0, as it s designed for this purpose.\n",
        "//This is due to it being a gradient from brown to green tones, with a heavy focus on the green side. If we would set min: -1, NDVI = 0 would already be displayed in a dark green tone.\n",
        "//You can recognize this by checking the palette-section of your layer information for ndvi_3.\n",
        "\n",
        "// Display the input image and the NDVI derived from it.\n",
        "Map.addLayer(ndvi_3, {min: 0, max: 1, palette: palette}, 'NDVI Lebanon July 2020 V3')"
      ]
    }
  ]
}