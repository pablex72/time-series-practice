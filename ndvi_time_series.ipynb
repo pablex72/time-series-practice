{
  "nbformat": 4,
  "nbformat_minor": 0,
  "metadata": {
    "colab": {
      "provenance": [],
      "authorship_tag": "ABX9TyP9C9rgtXWGUDMgHBrrtE88",
      "include_colab_link": true
    },
    "kernelspec": {
      "name": "python3",
      "display_name": "Python 3"
    },
    "language_info": {
      "name": "python"
    }
  },
  "cells": [
    {
      "cell_type": "markdown",
      "metadata": {
        "id": "view-in-github",
        "colab_type": "text"
      },
      "source": [
        "<a href=\"https://colab.research.google.com/github/pablex72/time-series-practice/blob/main/ndvi_time_series.ipynb\" target=\"_parent\"><img src=\"https://colab.research.google.com/assets/colab-badge.svg\" alt=\"Open In Colab\"/></a>"
      ]
    },
    {
      "cell_type": "code",
      "execution_count": null,
      "metadata": {
        "id": "ZDB8P0-Gfeo0"
      },
      "outputs": [],
      "source": [
        "// Load Dataset; From -> 01-ImageCollection\n",
        "var s2 = ee.ImageCollection(\"COPERNICUS/S2\");\n",
        "\n",
        "// Specify ROI; From -> 00-FeatureCollection-Part1\n",
        "var geometry = ee.Geometry.Polygon([[\n",
        "  [72.83750127696464, 19.235402686119595],\n",
        "          [72.83750127696464, 18.95509397610801],\n",
        "          [73.11749530133126, 18.95509397610801],\n",
        "          [73.11749530133126, 19.235402686119595]\n",
        "]]);\n",
        "\n",
        "//Adding to Map Layer\n",
        "Map.addLayer(geometry, {color: 'red'}, 'ThaneCreek')\n",
        "Map.centerObject(geometry)\n",
        "var rgbVis = {min: 0.0, max: 3000, bands: ['B4', 'B3', 'B2']};\n",
        "\n",
        "\n",
        "//Filter Dataset as per requirement; From-> 02-Filter_ImageCollection\n",
        "var filtered = s2\n",
        "  .filter(ee.Filter.date('2017-01-01', '2022-03-01'))\n",
        "  .filter(ee.Filter.lt('CLOUDY_PIXEL_PERCENTAGE', 30))\n",
        "  .filter(ee.Filter.bounds(geometry))\n",
        "\n",
        "// Write a function for Cloud masking\n",
        "function maskS2clouds(image) {\n",
        "  var qa = image.select('QA60')\n",
        "  var cloudBitMask = 1 << 10;\n",
        "  var cirrusBitMask = 1 << 11;\n",
        "  var mask = qa.bitwiseAnd(cloudBitMask).eq(0).and(\n",
        "             qa.bitwiseAnd(cirrusBitMask).eq(0))\n",
        "  return image.updateMask(mask)//.divide(10000)\n",
        "      .select(\"B.*\")\n",
        "      .copyProperties(image, [\"system:time_start\"])\n",
        "}\n",
        "\n",
        "var filtered = filtered.map(maskS2clouds)\n",
        "\n",
        "//Write NDVI function; From->06-ComputationOnImageCollection\n",
        "function addNDVI(image) {\n",
        "  var ndvi = image.normalizedDifference(['B8', 'B4']).rename('ndvi');\n",
        "  return image.addBands(ndvi);\n",
        "}\n",
        "\n",
        "// Map the function over the collection\n",
        "var withNdvi = filtered.map(addNDVI);\n",
        "\n",
        "//Chart display\n",
        "// Display a time-series chart\n",
        "// Reducer -> 07-Reducer\n",
        "var chart = ui.Chart.image.series({\n",
        "  imageCollection: withNdvi.select('ndvi'),\n",
        "  region: geometry,\n",
        "  reducer: ee.Reducer.mean(),\n",
        "  scale: 20\n",
        "}).setOptions({\n",
        "      lineWidth: 1,\n",
        "      title: 'NDVI Time Series',\n",
        "      interpolateNulls: true,\n",
        "      vAxis: {title: 'NDVI'},\n",
        "      hAxis: {title: '', format: 'YYYY-MMM'}\n",
        "    })\n",
        "print(chart);\n"
      ]
    }
  ]
}