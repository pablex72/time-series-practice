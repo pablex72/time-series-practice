{
  "nbformat": 4,
  "nbformat_minor": 0,
  "metadata": {
    "colab": {
      "provenance": [],
      "authorship_tag": "ABX9TyO9NDZJIix6JOkx75ooW9P5",
      "include_colab_link": true
    },
    "kernelspec": {
      "name": "python3",
      "display_name": "Python 3"
    },
    "language_info": {
      "name": "python"
    }
  },
  "cells": [
    {
      "cell_type": "markdown",
      "metadata": {
        "id": "view-in-github",
        "colab_type": "text"
      },
      "source": [
        "<a href=\"https://colab.research.google.com/github/pablex72/time-series-practice/blob/main/ndvi_time_series2.ipynb\" target=\"_parent\"><img src=\"https://colab.research.google.com/assets/colab-badge.svg\" alt=\"Open In Colab\"/></a>"
      ]
    },
    {
      "cell_type": "code",
      "execution_count": null,
      "metadata": {
        "id": "wR9JZmm1t7wp"
      },
      "outputs": [],
      "source": [
        "#-1 Agua, estructuras artificiales\n",
        "#0.1 suelo desnudo\n",
        "#0.2 vegetacion moderada\n",
        "#0.5 vegetacion densa\n",
        "#1\n",
        "#NDVI(Sentinel) = NIR - RED / NIR + RED = 8 - 4 / 8 + 4\n",
        "#ENERO A MAYO -- JUNIO A DIC DEL 2019\n",
        "\n",
        "#SENTINEL 2\n",
        "\n",
        "function coleccion_filtrada(desde, hasta, coleccion, porcentaje_nubes,geometria){\n",
        "    return coleccion.filterBounds(geometria).filterDate(desde,hasta)\n",
        "    .filterMetaData('CLOUDY_PERCENTAGE','less_than',porcentaje_nubes);\n",
        "}\n",
        "\n",
        "//Creamos una funcion que agrege una banda \"NDVI\" a una imagen\n",
        "//Esta nueva banda se calcula coon la funcion normalizedDifference (con RED y NIR)\n",
        "\n",
        "var addNDVI = function(image){\n",
        "    var ndvi = image.normalizedDifference(['B8,B4']).rename('NDVI');\n",
        "    return image.addBands(ndvi);\n",
        "}\n",
        "\n",
        "//Mapeamos para cada una de las imagenes de la coleccino la funcion NDVI\n",
        "function map_coleccion(coleccion){\n",
        "    return coleccion.map(addNDVI)\n",
        "}\n",
        "                                              //desde    //hasta    // coleccion a filter //%nubes //geometria\n",
        "var coleccionFiltrada2 = coleccion_filtrada('2019-01-01','2019-05-31', coleccion_imagenes, 20, geometry); // primera mitad del anio\n",
        "var coleccionFiltrada3 = coleccion_filtrada('2019-06-01','2019-12-31', coleccion_imagenes, 20, geometry); // primera mitad del anio\n",
        "\n",
        "//Mapeamos la funcion addNDVI para cada una de las imagenes de la coleccion\n",
        "var coleccion_ndvi = map_coleccion(coleccionFiltrada2);\n",
        "var coleccion_ndvi2 = map_coleccion(coleccionFiltrada3);\n",
        "\n",
        "var ndvi_s2 = coleccion_ndvi.select('NDVI').median().clip(geometry);\n",
        "var ndvi_s3 = coleccion_ndvi2.select('NDVI').median().clip(geometry);\n",
        "\n",
        "//Agregamos la capa al mapa\n",
        "//creamos una variable con la paleta de colores que queremos utilizar\n",
        "//para este caso utilizare esta paleta de colores\n",
        "\n",
        "var paleta = '';\n",
        "\n",
        "Map.addLayer(ndvi_s2, {min:-0.1, max: 1, palette: paleta}, ''2019-01-01','2019-05-31'')\n",
        "Map.addLayer(ndvi_s3, {min:-0.1, max: 1, palette: paleta}, ''2019-06-01','2019-12-31'')\n",
        "\n",
        "var chart = ui.Chart.image.series({\n",
        "    imageCollection: coleccion_ndvi.select('NDVI'),//usamos la coleccion de imagenes para la primera epoca del anio \n",
        "    region: geometry, //Area con la que trabajaremos\n",
        "    reducer: ee.Reducer.mean(),\n",
        "    scale:200\n",
        "})\n",
        "\n"
      ]
    }
  ]
}